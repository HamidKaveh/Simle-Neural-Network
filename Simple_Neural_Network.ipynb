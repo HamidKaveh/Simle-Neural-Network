{
  "nbformat": 4,
  "nbformat_minor": 0,
  "metadata": {
    "colab": {
      "name": "Simple Neural Network.ipynb",
      "provenance": [],
      "collapsed_sections": []
    },
    "kernelspec": {
      "name": "python3",
      "display_name": "Python 3"
    },
    "language_info": {
      "name": "python"
    }
  },
  "cells": [
    {
      "cell_type": "markdown",
      "source": [
        "# **A simple Artificial Neural Network (ANN) without using sklearn library**"
      ],
      "metadata": {
        "id": "rpMyaZEQ45ED"
      }
    },
    {
      "cell_type": "code",
      "source": [
        "import numpy as np"
      ],
      "metadata": {
        "id": "qn8xHnWtFNjG"
      },
      "execution_count": null,
      "outputs": []
    },
    {
      "cell_type": "code",
      "source": [
        "Inputs = np.array(([2,6],[1,5],[4,10],[5,9],[3,6],[1,4],[7,8],[5,9],[4,8],[8,10]))"
      ],
      "metadata": {
        "id": "k5uIcw74FW6I"
      },
      "execution_count": null,
      "outputs": []
    },
    {
      "cell_type": "code",
      "source": [
        "Output = np.array(([43],[38],[57],[68],[49],[28],[94],[86],[75],[98]))"
      ],
      "metadata": {
        "id": "HbqvZv_YGO7M"
      },
      "execution_count": null,
      "outputs": []
    },
    {
      "cell_type": "code",
      "source": [
        "# Normalizing Inputs and Outpiuts:\n",
        "Inputs = (Inputs - np.amin(Inputs,axis=0)) / (np.amax(Inputs, axis=0)-np.amin(Inputs,axis=0))\n",
        "Output = (Output - np.amin(Output,axis=0)) / (np.amax(Output, axis=0)-np.amin(Output,axis=0))"
      ],
      "metadata": {
        "id": "R016cdDSHEDU"
      },
      "execution_count": null,
      "outputs": []
    },
    {
      "cell_type": "code",
      "source": [
        "# Joining Inputs and Output in order to shuffle and split data:\n",
        "data = np.concatenate((Inputs,Output), axis=1)"
      ],
      "metadata": {
        "id": "rVA1pLQ4Hk5V"
      },
      "execution_count": null,
      "outputs": []
    },
    {
      "cell_type": "code",
      "source": [
        "# Spliting Training (70%) and Testing Set (30%):\n",
        "np.random.shuffle(data)\n",
        "xtrain, xtest, ytrain, ytest = data[:7,0:2], data[7:,0:2], data[:7,2:3], data[7:,2:3]"
      ],
      "metadata": {
        "id": "MpmjsSP8Iqe8"
      },
      "execution_count": null,
      "outputs": []
    },
    {
      "cell_type": "code",
      "source": [
        "class ANN():\n",
        "    def __init__(self):\n",
        "        self.Input_Layer_Size = 2\n",
        "        self.Hidden_Layer_Size = 3\n",
        "        self.Output_Layer_Size = 1\n",
        "        self.Weight_1 = np.random.rand(self.Input_Layer_Size, self.Hidden_Layer_Size)\n",
        "        self.Weight_2 = np.random.rand(self.Hidden_Layer_Size, self.Output_Layer_Size)\n",
        "\n",
        "    # Feed-Forward Algorithm:\n",
        "    def forward(self, input):\n",
        "        self.In_Hidden = np.dot(input, self.Weight_1)\n",
        "        self.Activation_Function = self.Activation(self.In_Hidden)\n",
        "        self.Hidden_Out = np.dot(self.Activation_Function, self.Weight_2)\n",
        "        Out = self.Activation(self.Hidden_Out)\n",
        "        return Out\n",
        "\n",
        "    # Activation Function: Here we use \"Sigmoid\" function\n",
        "    def Activation(self, sig):\n",
        "        return (1/(1+np.exp(-sig)))\n",
        "\n",
        "    # Derivative of the Activation Function:\n",
        "    def Deriviative_AF(self, sig):\n",
        "        return (sig*(1-sig))\n",
        "    #-------------------------------------------------------------------------------------\n",
        "    #-------------------------------------------------------------------------------------\n",
        "    # Backward :\n",
        "    def Back(self, input, output):\n",
        "        # Calculating error (Out --> Hidden Layer)\n",
        "        self.NN_output = self.forward(input)\n",
        "        self.Prediction_Error = output - self.NN_output\n",
        "        self.Delta_Out = self.Prediction_Error * self.Deriviative_AF(self.NN_output)\n",
        "        self.error = self.Delta_Out.dot(self.Weight_2.T)\n",
        "        self.Delta_Hidden = self.error * self.Deriviative_AF(self.Activation_Function)\n",
        "\n",
        "        # Updating the weights\n",
        "        self.Weight_1 = self.Weight_1 + input.T.dot(self.Delta_Hidden)\n",
        "        self.Weight_2 = self.Weight_2 + self.Activation_Function.T.dot(self.Delta_Out)\n",
        "        # np.savetxt(\"Weight_1\", self.Weight_1, fmt=\"%s\", delimiter=',')\n",
        "        # np.savetxt(\"Weight_2\", self.Weight_2, fmt=\"%s\", delimiter=',')\n",
        "\n",
        "    #---------------------------------------------------------------------------------------\n",
        "\n"
      ],
      "metadata": {
        "id": "HuPs4jPHTT3k"
      },
      "execution_count": null,
      "outputs": []
    },
    {
      "cell_type": "code",
      "source": [
        "def Training(input, output):\n",
        "    Neural_Network = ANN()\n",
        "    Neural_Network.Back(input, output)"
      ],
      "metadata": {
        "id": "YBlfSCdxAS-d"
      },
      "execution_count": null,
      "outputs": []
    },
    {
      "cell_type": "code",
      "source": [
        "Training(xtrain, ytrain)"
      ],
      "metadata": {
        "id": "WMbfhVEB_RVf"
      },
      "execution_count": null,
      "outputs": []
    },
    {
      "cell_type": "code",
      "source": [
        "def prediction(Test_Data):\n",
        "    Neural_Network = ANN()\n",
        "    print( \"Prediction by using trained weights: \\n\", Neural_Network.forward(Test_Data))"
      ],
      "metadata": {
        "id": "UntB4ENm_RFX"
      },
      "execution_count": null,
      "outputs": []
    },
    {
      "cell_type": "code",
      "source": [
        "prediction(xtest)"
      ],
      "metadata": {
        "id": "DD4sfQCt_Q8E",
        "colab": {
          "base_uri": "https://localhost:8080/"
        },
        "outputId": "737f934d-2865-4e19-ef6d-83ff74a1c9ef"
      },
      "execution_count": null,
      "outputs": [
        {
          "output_type": "stream",
          "name": "stdout",
          "text": [
            "Prediction by using trained weights: \n",
            " [[0.62370014]\n",
            " [0.61898739]\n",
            " [0.64907141]]\n"
          ]
        }
      ]
    },
    {
      "cell_type": "code",
      "source": [
        ""
      ],
      "metadata": {
        "id": "34BDtRzz5hGG"
      },
      "execution_count": null,
      "outputs": []
    }
  ]
}